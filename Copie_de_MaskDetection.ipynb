{
  "nbformat": 4,
  "nbformat_minor": 0,
  "metadata": {
    "colab": {
      "name": "Copie de MaskDetection.ipynb",
      "provenance": [],
      "collapsed_sections": []
    },
    "kernelspec": {
      "name": "python3",
      "display_name": "Python 3"
    },
    "accelerator": "GPU",
    "widgets": {
      "application/vnd.jupyter.widget-state+json": {
        "109c82e99ed54e1a9279fe1851f83ec4": {
          "model_module": "@jupyter-widgets/controls",
          "model_name": "VBoxModel",
          "state": {
            "_view_name": "VBoxView",
            "_dom_classes": [],
            "_model_name": "VBoxModel",
            "_view_module": "@jupyter-widgets/controls",
            "_model_module_version": "1.5.0",
            "_view_count": null,
            "_view_module_version": "1.5.0",
            "box_style": "",
            "layout": "IPY_MODEL_9a3a1eb5d4244170a597bee3f198dd1f",
            "_model_module": "@jupyter-widgets/controls",
            "children": [
              "IPY_MODEL_1337f98829704b6cae1476ebd33d0015",
              "IPY_MODEL_d13cd0882c164296a4baada122aab3b2",
              "IPY_MODEL_56558089077b480fbdbdca22b91e747b",
              "IPY_MODEL_01c3a0120c4f48ca970515ece03d42d0",
              "IPY_MODEL_4d40cf92836a494ca53422cc303f6310"
            ]
          }
        },
        "9a3a1eb5d4244170a597bee3f198dd1f": {
          "model_module": "@jupyter-widgets/base",
          "model_name": "LayoutModel",
          "state": {
            "_view_name": "LayoutView",
            "grid_template_rows": null,
            "right": null,
            "justify_content": null,
            "_view_module": "@jupyter-widgets/base",
            "overflow": null,
            "_model_module_version": "1.2.0",
            "_view_count": null,
            "flex_flow": null,
            "width": null,
            "min_width": null,
            "border": null,
            "align_items": null,
            "bottom": null,
            "_model_module": "@jupyter-widgets/base",
            "top": null,
            "grid_column": null,
            "overflow_y": null,
            "overflow_x": null,
            "grid_auto_flow": null,
            "grid_area": null,
            "grid_template_columns": null,
            "flex": null,
            "_model_name": "LayoutModel",
            "justify_items": null,
            "grid_row": null,
            "max_height": null,
            "align_content": null,
            "visibility": null,
            "align_self": null,
            "height": null,
            "min_height": null,
            "padding": null,
            "grid_auto_rows": null,
            "grid_gap": null,
            "max_width": null,
            "order": null,
            "_view_module_version": "1.2.0",
            "grid_template_areas": null,
            "object_position": null,
            "object_fit": null,
            "grid_auto_columns": null,
            "margin": null,
            "display": null,
            "left": null
          }
        },
        "1337f98829704b6cae1476ebd33d0015": {
          "model_module": "@jupyter-widgets/controls",
          "model_name": "LabelModel",
          "state": {
            "_view_name": "LabelView",
            "style": "IPY_MODEL_f9e53c995d2448869793d7afacf9084d",
            "_dom_classes": [],
            "description": "",
            "_model_name": "LabelModel",
            "placeholder": "​",
            "_view_module": "@jupyter-widgets/controls",
            "_model_module_version": "1.5.0",
            "value": "Détection de masque",
            "_view_count": null,
            "_view_module_version": "1.5.0",
            "description_tooltip": null,
            "_model_module": "@jupyter-widgets/controls",
            "layout": "IPY_MODEL_dea6eef5a4ad4c7faf433bfc8fd0f6ad"
          }
        },
        "d13cd0882c164296a4baada122aab3b2": {
          "model_module": "@jupyter-widgets/controls",
          "model_name": "FileUploadModel",
          "state": {
            "_view_name": "FileUploadView",
            "_counter": 2,
            "style": "IPY_MODEL_07370206153b44dfa57ad8322dfaa421",
            "_dom_classes": [],
            "description": "Upload",
            "multiple": false,
            "_model_name": "FileUploadModel",
            "data": [
              null
            ],
            "button_style": "",
            "_view_module": "@jupyter-widgets/controls",
            "_model_module_version": "1.5.0",
            "accept": "image/*",
            "_view_count": null,
            "disabled": false,
            "_view_module_version": "1.5.0",
            "error": "",
            "description_tooltip": null,
            "metadata": [
              {
                "name": "SXHZRVNOLLB5N2G4PYJB2U6MHY.webp",
                "type": "image/webp",
                "size": 34100,
                "lastModified": 1600784346143
              }
            ],
            "_model_module": "@jupyter-widgets/controls",
            "layout": "IPY_MODEL_0eff9d40cfd846e1892aa43d6ca8e064",
            "icon": "upload"
          }
        },
        "56558089077b480fbdbdca22b91e747b": {
          "model_module": "@jupyter-widgets/controls",
          "model_name": "ButtonModel",
          "state": {
            "_view_name": "ButtonView",
            "style": "IPY_MODEL_ab4644460fd14b259fa50173592d3ced",
            "_dom_classes": [],
            "description": "Tester",
            "_model_name": "ButtonModel",
            "button_style": "",
            "_view_module": "@jupyter-widgets/controls",
            "_model_module_version": "1.5.0",
            "tooltip": "",
            "_view_count": null,
            "disabled": false,
            "_view_module_version": "1.5.0",
            "layout": "IPY_MODEL_7bf532b3c6a24193b4e42d46a3dbe526",
            "_model_module": "@jupyter-widgets/controls",
            "icon": ""
          }
        },
        "01c3a0120c4f48ca970515ece03d42d0": {
          "model_module": "@jupyter-widgets/output",
          "model_name": "OutputModel",
          "state": {
            "_view_name": "OutputView",
            "msg_id": "",
            "_dom_classes": [],
            "_model_name": "OutputModel",
            "outputs": [
              {
                "output_type": "display_data",
                "metadata": {
                  "tags": []
                },
                "image/png": "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\n",
                "text/plain": "<PIL.Image.Image image mode=RGB size=128x80 at 0x7F7FCBF13470>"
              }
            ],
            "_view_module": "@jupyter-widgets/output",
            "_model_module_version": "1.0.0",
            "_view_count": null,
            "_view_module_version": "1.0.0",
            "layout": "IPY_MODEL_132edffa095d469fa307b6c8e07a8311",
            "_model_module": "@jupyter-widgets/output"
          }
        },
        "4d40cf92836a494ca53422cc303f6310": {
          "model_module": "@jupyter-widgets/controls",
          "model_name": "LabelModel",
          "state": {
            "_view_name": "LabelView",
            "style": "IPY_MODEL_53ff6fd65ed64a4fb0212a292d5100d2",
            "_dom_classes": [],
            "description": "",
            "_model_name": "LabelModel",
            "placeholder": "​",
            "_view_module": "@jupyter-widgets/controls",
            "_model_module_version": "1.5.0",
            "value": "with_mask; 0.9999",
            "_view_count": null,
            "_view_module_version": "1.5.0",
            "description_tooltip": null,
            "_model_module": "@jupyter-widgets/controls",
            "layout": "IPY_MODEL_8b1e99b024b448e2b73330627450d6de"
          }
        },
        "f9e53c995d2448869793d7afacf9084d": {
          "model_module": "@jupyter-widgets/controls",
          "model_name": "DescriptionStyleModel",
          "state": {
            "_view_name": "StyleView",
            "_model_name": "DescriptionStyleModel",
            "description_width": "",
            "_view_module": "@jupyter-widgets/base",
            "_model_module_version": "1.5.0",
            "_view_count": null,
            "_view_module_version": "1.2.0",
            "_model_module": "@jupyter-widgets/controls"
          }
        },
        "dea6eef5a4ad4c7faf433bfc8fd0f6ad": {
          "model_module": "@jupyter-widgets/base",
          "model_name": "LayoutModel",
          "state": {
            "_view_name": "LayoutView",
            "grid_template_rows": null,
            "right": null,
            "justify_content": null,
            "_view_module": "@jupyter-widgets/base",
            "overflow": null,
            "_model_module_version": "1.2.0",
            "_view_count": null,
            "flex_flow": null,
            "width": null,
            "min_width": null,
            "border": null,
            "align_items": null,
            "bottom": null,
            "_model_module": "@jupyter-widgets/base",
            "top": null,
            "grid_column": null,
            "overflow_y": null,
            "overflow_x": null,
            "grid_auto_flow": null,
            "grid_area": null,
            "grid_template_columns": null,
            "flex": null,
            "_model_name": "LayoutModel",
            "justify_items": null,
            "grid_row": null,
            "max_height": null,
            "align_content": null,
            "visibility": null,
            "align_self": null,
            "height": null,
            "min_height": null,
            "padding": null,
            "grid_auto_rows": null,
            "grid_gap": null,
            "max_width": null,
            "order": null,
            "_view_module_version": "1.2.0",
            "grid_template_areas": null,
            "object_position": null,
            "object_fit": null,
            "grid_auto_columns": null,
            "margin": null,
            "display": null,
            "left": null
          }
        },
        "07370206153b44dfa57ad8322dfaa421": {
          "model_module": "@jupyter-widgets/controls",
          "model_name": "ButtonStyleModel",
          "state": {
            "_view_name": "StyleView",
            "_model_name": "ButtonStyleModel",
            "_view_module": "@jupyter-widgets/base",
            "_model_module_version": "1.5.0",
            "_view_count": null,
            "button_color": null,
            "font_weight": "",
            "_view_module_version": "1.2.0",
            "_model_module": "@jupyter-widgets/controls"
          }
        },
        "0eff9d40cfd846e1892aa43d6ca8e064": {
          "model_module": "@jupyter-widgets/base",
          "model_name": "LayoutModel",
          "state": {
            "_view_name": "LayoutView",
            "grid_template_rows": null,
            "right": null,
            "justify_content": null,
            "_view_module": "@jupyter-widgets/base",
            "overflow": null,
            "_model_module_version": "1.2.0",
            "_view_count": null,
            "flex_flow": null,
            "width": null,
            "min_width": null,
            "border": null,
            "align_items": null,
            "bottom": null,
            "_model_module": "@jupyter-widgets/base",
            "top": null,
            "grid_column": null,
            "overflow_y": null,
            "overflow_x": null,
            "grid_auto_flow": null,
            "grid_area": null,
            "grid_template_columns": null,
            "flex": null,
            "_model_name": "LayoutModel",
            "justify_items": null,
            "grid_row": null,
            "max_height": null,
            "align_content": null,
            "visibility": null,
            "align_self": null,
            "height": null,
            "min_height": null,
            "padding": null,
            "grid_auto_rows": null,
            "grid_gap": null,
            "max_width": null,
            "order": null,
            "_view_module_version": "1.2.0",
            "grid_template_areas": null,
            "object_position": null,
            "object_fit": null,
            "grid_auto_columns": null,
            "margin": null,
            "display": null,
            "left": null
          }
        },
        "ab4644460fd14b259fa50173592d3ced": {
          "model_module": "@jupyter-widgets/controls",
          "model_name": "ButtonStyleModel",
          "state": {
            "_view_name": "StyleView",
            "_model_name": "ButtonStyleModel",
            "_view_module": "@jupyter-widgets/base",
            "_model_module_version": "1.5.0",
            "_view_count": null,
            "button_color": null,
            "font_weight": "",
            "_view_module_version": "1.2.0",
            "_model_module": "@jupyter-widgets/controls"
          }
        },
        "7bf532b3c6a24193b4e42d46a3dbe526": {
          "model_module": "@jupyter-widgets/base",
          "model_name": "LayoutModel",
          "state": {
            "_view_name": "LayoutView",
            "grid_template_rows": null,
            "right": null,
            "justify_content": null,
            "_view_module": "@jupyter-widgets/base",
            "overflow": null,
            "_model_module_version": "1.2.0",
            "_view_count": null,
            "flex_flow": null,
            "width": null,
            "min_width": null,
            "border": null,
            "align_items": null,
            "bottom": null,
            "_model_module": "@jupyter-widgets/base",
            "top": null,
            "grid_column": null,
            "overflow_y": null,
            "overflow_x": null,
            "grid_auto_flow": null,
            "grid_area": null,
            "grid_template_columns": null,
            "flex": null,
            "_model_name": "LayoutModel",
            "justify_items": null,
            "grid_row": null,
            "max_height": null,
            "align_content": null,
            "visibility": null,
            "align_self": null,
            "height": null,
            "min_height": null,
            "padding": null,
            "grid_auto_rows": null,
            "grid_gap": null,
            "max_width": null,
            "order": null,
            "_view_module_version": "1.2.0",
            "grid_template_areas": null,
            "object_position": null,
            "object_fit": null,
            "grid_auto_columns": null,
            "margin": null,
            "display": null,
            "left": null
          }
        },
        "53ff6fd65ed64a4fb0212a292d5100d2": {
          "model_module": "@jupyter-widgets/controls",
          "model_name": "DescriptionStyleModel",
          "state": {
            "_view_name": "StyleView",
            "_model_name": "DescriptionStyleModel",
            "description_width": "",
            "_view_module": "@jupyter-widgets/base",
            "_model_module_version": "1.5.0",
            "_view_count": null,
            "_view_module_version": "1.2.0",
            "_model_module": "@jupyter-widgets/controls"
          }
        },
        "8b1e99b024b448e2b73330627450d6de": {
          "model_module": "@jupyter-widgets/base",
          "model_name": "LayoutModel",
          "state": {
            "_view_name": "LayoutView",
            "grid_template_rows": null,
            "right": null,
            "justify_content": null,
            "_view_module": "@jupyter-widgets/base",
            "overflow": null,
            "_model_module_version": "1.2.0",
            "_view_count": null,
            "flex_flow": null,
            "width": null,
            "min_width": null,
            "border": null,
            "align_items": null,
            "bottom": null,
            "_model_module": "@jupyter-widgets/base",
            "top": null,
            "grid_column": null,
            "overflow_y": null,
            "overflow_x": null,
            "grid_auto_flow": null,
            "grid_area": null,
            "grid_template_columns": null,
            "flex": null,
            "_model_name": "LayoutModel",
            "justify_items": null,
            "grid_row": null,
            "max_height": null,
            "align_content": null,
            "visibility": null,
            "align_self": null,
            "height": null,
            "min_height": null,
            "padding": null,
            "grid_auto_rows": null,
            "grid_gap": null,
            "max_width": null,
            "order": null,
            "_view_module_version": "1.2.0",
            "grid_template_areas": null,
            "object_position": null,
            "object_fit": null,
            "grid_auto_columns": null,
            "margin": null,
            "display": null,
            "left": null
          }
        },
        "132edffa095d469fa307b6c8e07a8311": {
          "model_module": "@jupyter-widgets/base",
          "model_name": "LayoutModel",
          "state": {
            "_view_name": "LayoutView",
            "grid_template_rows": null,
            "right": null,
            "justify_content": null,
            "_view_module": "@jupyter-widgets/base",
            "overflow": null,
            "_model_module_version": "1.2.0",
            "_view_count": null,
            "flex_flow": null,
            "width": null,
            "min_width": null,
            "border": null,
            "align_items": null,
            "bottom": null,
            "_model_module": "@jupyter-widgets/base",
            "top": null,
            "grid_column": null,
            "overflow_y": null,
            "overflow_x": null,
            "grid_auto_flow": null,
            "grid_area": null,
            "grid_template_columns": null,
            "flex": null,
            "_model_name": "LayoutModel",
            "justify_items": null,
            "grid_row": null,
            "max_height": null,
            "align_content": null,
            "visibility": null,
            "align_self": null,
            "height": null,
            "min_height": null,
            "padding": null,
            "grid_auto_rows": null,
            "grid_gap": null,
            "max_width": null,
            "order": null,
            "_view_module_version": "1.2.0",
            "grid_template_areas": null,
            "object_position": null,
            "object_fit": null,
            "grid_auto_columns": null,
            "margin": null,
            "display": null,
            "left": null
          }
        }
      }
    }
  },
  "cells": [
    {
      "cell_type": "code",
      "metadata": {
        "id": "S8k5IlUd1Dp8",
        "colab_type": "code",
        "colab": {}
      },
      "source": [
        "#hide\n",
        "!pip install -Uqq fastbook\n",
        "import fastbook\n",
        "fastbook.setup_book()\n",
        "from fastai.vision.widgets import *"
      ],
      "execution_count": 32,
      "outputs": []
    },
    {
      "cell_type": "code",
      "metadata": {
        "id": "oH_vnTHyvqC2",
        "colab_type": "code",
        "colab": {}
      },
      "source": [
        "location = \"/content/gdrive/My Drive/Colab Notebooks/\""
      ],
      "execution_count": 33,
      "outputs": []
    },
    {
      "cell_type": "code",
      "metadata": {
        "id": "mA04sYRWpL93",
        "colab_type": "code",
        "colab": {}
      },
      "source": [
        "learn_inf = load_learner(location + '/models/mask.pkl')"
      ],
      "execution_count": 34,
      "outputs": []
    },
    {
      "cell_type": "code",
      "metadata": {
        "id": "Cnx9cBXc2O3g",
        "colab_type": "code",
        "colab": {}
      },
      "source": [
        "#hide_output\n",
        "btn_upload = widgets.FileUpload(accept='image/*', multiple=False)\n",
        "btn_run = widgets.Button(description='Tester')\n",
        "out_pl = widgets.Output()\n",
        "out_pl.clear_output()\n",
        "lbl_pred = widgets.Label()\n",
        "def on_click_classify(change):\n",
        "    img = PILImage.create(btn_upload.data[-1])\n",
        "    out_pl.clear_output()\n",
        "    with out_pl: display(img.to_thumb(128,128))\n",
        "    pred,pred_idx,probs = learn_inf.predict(img)\n",
        "    lbl_pred.value = f'{pred}; {probs[pred_idx]:.04f}'\n",
        "\n",
        "btn_run.on_click(on_click_classify)"
      ],
      "execution_count": 35,
      "outputs": []
    },
    {
      "cell_type": "code",
      "metadata": {
        "id": "SEqL3jJAuGoM",
        "colab_type": "code",
        "colab": {
          "base_uri": "https://localhost:8080/",
          "height": 225,
          "referenced_widgets": [
            "109c82e99ed54e1a9279fe1851f83ec4",
            "9a3a1eb5d4244170a597bee3f198dd1f",
            "1337f98829704b6cae1476ebd33d0015",
            "d13cd0882c164296a4baada122aab3b2",
            "56558089077b480fbdbdca22b91e747b",
            "01c3a0120c4f48ca970515ece03d42d0",
            "4d40cf92836a494ca53422cc303f6310",
            "f9e53c995d2448869793d7afacf9084d",
            "dea6eef5a4ad4c7faf433bfc8fd0f6ad",
            "07370206153b44dfa57ad8322dfaa421",
            "0eff9d40cfd846e1892aa43d6ca8e064",
            "ab4644460fd14b259fa50173592d3ced",
            "7bf532b3c6a24193b4e42d46a3dbe526",
            "53ff6fd65ed64a4fb0212a292d5100d2",
            "8b1e99b024b448e2b73330627450d6de",
            "132edffa095d469fa307b6c8e07a8311"
          ]
        },
        "outputId": "19e86b4a-feff-4ec9-fe15-2fc4e448d00e"
      },
      "source": [
        "widgets.VBox([widgets.Label('Détection de masque'), \n",
        "              btn_upload, btn_run, out_pl, lbl_pred])\n"
      ],
      "execution_count": 36,
      "outputs": [
        {
          "output_type": "display_data",
          "data": {
            "application/vnd.jupyter.widget-view+json": {
              "model_id": "109c82e99ed54e1a9279fe1851f83ec4",
              "version_minor": 0,
              "version_major": 2
            },
            "text/plain": [
              "VBox(children=(Label(value='Détection de masque'), FileUpload(value={}, accept='image/*', description='Upload'…"
            ]
          },
          "metadata": {
            "tags": []
          }
        },
        {
          "output_type": "display_data",
          "data": {
            "text/html": [
              ""
            ],
            "text/plain": [
              "<IPython.core.display.HTML object>"
            ]
          },
          "metadata": {
            "tags": []
          }
        },
        {
          "output_type": "display_data",
          "data": {
            "text/html": [
              ""
            ],
            "text/plain": [
              "<IPython.core.display.HTML object>"
            ]
          },
          "metadata": {
            "tags": []
          }
        }
      ]
    }
  ]
}